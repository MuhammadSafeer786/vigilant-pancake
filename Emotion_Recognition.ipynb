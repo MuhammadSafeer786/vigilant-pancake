{
 "cells": [
  {
   "cell_type": "code",
   "execution_count": 1,
   "id": "314ded11-44f7-4dd9-8c10-6a1403526b2f",
   "metadata": {},
   "outputs": [],
   "source": [
    "import tensorflow as tf\n",
    "from tensorflow.keras import datasets, layers,models\n",
    "import matplotlib.pyplot as plt\n",
    "import numpy as np\n",
    "import pandas as pd\n",
    "import os"
   ]
  },
  {
   "cell_type": "code",
   "execution_count": 2,
   "id": "5e998d6b-f1fc-419f-84a0-ed70891dd4f9",
   "metadata": {},
   "outputs": [
    {
     "data": {
      "text/html": [
       "<div>\n",
       "<style scoped>\n",
       "    .dataframe tbody tr th:only-of-type {\n",
       "        vertical-align: middle;\n",
       "    }\n",
       "\n",
       "    .dataframe tbody tr th {\n",
       "        vertical-align: top;\n",
       "    }\n",
       "\n",
       "    .dataframe thead th {\n",
       "        text-align: right;\n",
       "    }\n",
       "</style>\n",
       "<table border=\"1\" class=\"dataframe\">\n",
       "  <thead>\n",
       "    <tr style=\"text-align: right;\">\n",
       "      <th></th>\n",
       "      <th>file_path</th>\n",
       "      <th>label</th>\n",
       "    </tr>\n",
       "  </thead>\n",
       "  <tbody>\n",
       "    <tr>\n",
       "      <th>0</th>\n",
       "      <td>C:\\CK+48\\anger\\S010_004_00000017.png</td>\n",
       "      <td>anger</td>\n",
       "    </tr>\n",
       "    <tr>\n",
       "      <th>1</th>\n",
       "      <td>C:\\CK+48\\anger\\S010_004_00000018.png</td>\n",
       "      <td>anger</td>\n",
       "    </tr>\n",
       "    <tr>\n",
       "      <th>2</th>\n",
       "      <td>C:\\CK+48\\anger\\S010_004_00000019.png</td>\n",
       "      <td>anger</td>\n",
       "    </tr>\n",
       "    <tr>\n",
       "      <th>3</th>\n",
       "      <td>C:\\CK+48\\anger\\S011_004_00000019.png</td>\n",
       "      <td>anger</td>\n",
       "    </tr>\n",
       "    <tr>\n",
       "      <th>4</th>\n",
       "      <td>C:\\CK+48\\anger\\S011_004_00000020.png</td>\n",
       "      <td>anger</td>\n",
       "    </tr>\n",
       "  </tbody>\n",
       "</table>\n",
       "</div>"
      ],
      "text/plain": [
       "                              file_path  label\n",
       "0  C:\\CK+48\\anger\\S010_004_00000017.png  anger\n",
       "1  C:\\CK+48\\anger\\S010_004_00000018.png  anger\n",
       "2  C:\\CK+48\\anger\\S010_004_00000019.png  anger\n",
       "3  C:\\CK+48\\anger\\S011_004_00000019.png  anger\n",
       "4  C:\\CK+48\\anger\\S011_004_00000020.png  anger"
      ]
     },
     "execution_count": 2,
     "metadata": {},
     "output_type": "execute_result"
    }
   ],
   "source": [
    "dataset_path = \"C:\\CK+48\"\n",
    "\n",
    "# Create empty lists to store file paths and labels\n",
    "file_paths = []\n",
    "labels = []\n",
    "\n",
    "# Loop through each class folder and its images\n",
    "for class_name in os.listdir(dataset_path):\n",
    "    class_path = os.path.join(dataset_path, class_name)\n",
    "    if os.path.isdir(class_path):\n",
    "        for image_file in os.listdir(class_path):\n",
    "            image_path = os.path.join(class_path, image_file)\n",
    "            file_paths.append(image_path)\n",
    "            labels.append(class_name)\n",
    "\n",
    "# Create a DataFrame from the lists\n",
    "df = pd.DataFrame({'file_path': file_paths, 'label': labels})\n",
    "df.head()"
   ]
  },
  {
   "cell_type": "code",
   "execution_count": 3,
   "id": "279b6236-3443-469c-a716-41609578e163",
   "metadata": {},
   "outputs": [
    {
     "data": {
      "text/html": [
       "<div>\n",
       "<style scoped>\n",
       "    .dataframe tbody tr th:only-of-type {\n",
       "        vertical-align: middle;\n",
       "    }\n",
       "\n",
       "    .dataframe tbody tr th {\n",
       "        vertical-align: top;\n",
       "    }\n",
       "\n",
       "    .dataframe thead th {\n",
       "        text-align: right;\n",
       "    }\n",
       "</style>\n",
       "<table border=\"1\" class=\"dataframe\">\n",
       "  <thead>\n",
       "    <tr style=\"text-align: right;\">\n",
       "      <th></th>\n",
       "      <th>file_path</th>\n",
       "      <th>label</th>\n",
       "    </tr>\n",
       "  </thead>\n",
       "  <tbody>\n",
       "    <tr>\n",
       "      <th>0</th>\n",
       "      <td>C:\\CK+48\\anger\\S010_004_00000017.png</td>\n",
       "      <td>anger</td>\n",
       "    </tr>\n",
       "    <tr>\n",
       "      <th>1</th>\n",
       "      <td>C:\\CK+48\\anger\\S010_004_00000018.png</td>\n",
       "      <td>anger</td>\n",
       "    </tr>\n",
       "    <tr>\n",
       "      <th>2</th>\n",
       "      <td>C:\\CK+48\\anger\\S010_004_00000019.png</td>\n",
       "      <td>anger</td>\n",
       "    </tr>\n",
       "    <tr>\n",
       "      <th>3</th>\n",
       "      <td>C:\\CK+48\\anger\\S011_004_00000019.png</td>\n",
       "      <td>anger</td>\n",
       "    </tr>\n",
       "    <tr>\n",
       "      <th>4</th>\n",
       "      <td>C:\\CK+48\\anger\\S011_004_00000020.png</td>\n",
       "      <td>anger</td>\n",
       "    </tr>\n",
       "  </tbody>\n",
       "</table>\n",
       "</div>"
      ],
      "text/plain": [
       "                              file_path  label\n",
       "0  C:\\CK+48\\anger\\S010_004_00000017.png  anger\n",
       "1  C:\\CK+48\\anger\\S010_004_00000018.png  anger\n",
       "2  C:\\CK+48\\anger\\S010_004_00000019.png  anger\n",
       "3  C:\\CK+48\\anger\\S011_004_00000019.png  anger\n",
       "4  C:\\CK+48\\anger\\S011_004_00000020.png  anger"
      ]
     },
     "execution_count": 3,
     "metadata": {},
     "output_type": "execute_result"
    }
   ],
   "source": [
    "df.to_csv(\"image_dataset.csv\", index=False)\n",
    "df.head()"
   ]
  },
  {
   "cell_type": "code",
   "execution_count": 4,
   "id": "16af47a9-c114-45ed-99a2-e86fb2ce4273",
   "metadata": {},
   "outputs": [],
   "source": [
    "from tensorflow.keras.preprocessing.image import img_to_array, load_img\n",
    "from sklearn.model_selection import train_test_split\n",
    "# Load the DataFrame\n",
    "df = pd.read_csv(\"image_dataset.csv\")\n",
    "\n",
    "# Preprocess the images\n",
    "def preprocess_image(image_path):\n",
    "    img = load_img(image_path, target_size=(48, 48))\n",
    "    img_array = img_to_array(img)\n",
    "    img_array /= 255.0  # Normalize pixel values to the range [0, 1]\n",
    "    return img_array\n",
    "\n",
    "# Load and preprocess images\n",
    "df['image_data'] = df['file_path'].apply(preprocess_image)\n",
    "\n",
    "# Convert labels to numerical format (if needed)\n",
    "# For example, if labels are 'cat' and 'dog', you can convert them to 0 and 1:\n",
    "label_mapping = {'anger': 0, 'contempt': 1, 'disgust': 2, 'fear': 3, 'happy': 4, 'sadness': 5, 'surprise': 6, }\n",
    "df['label'] = df['label'].map(label_mapping)\n",
    "\n",
    "# Split the dataset into training and validation sets\n",
    "train_df, val_df = train_test_split(df, test_size=0.2, random_state=42)\n",
    "\n",
    "# Convert the image_data and label columns into numpy arrays\n",
    "X_train = np.array(train_df['image_data'].tolist())\n",
    "y_train = np.array(train_df['label'])\n",
    "\n",
    "X_val = np.array(val_df['image_data'].tolist())\n",
    "y_val = np.array(val_df['label'])"
   ]
  },
  {
   "cell_type": "code",
   "execution_count": 5,
   "id": "c37031f3-9c83-4a0b-b434-0d8b85cf252e",
   "metadata": {},
   "outputs": [
    {
     "data": {
      "text/plain": [
       "array([6, 4, 6, 0, 0, 6, 2, 6, 4, 2, 2, 6, 2, 0, 6, 0, 4, 6, 0, 6, 2, 4,\n",
       "       4, 5, 6, 0, 0, 3, 4, 2, 2, 4, 0, 0, 4, 6, 3, 4, 0, 4, 2, 2, 4, 6,\n",
       "       4, 2, 6, 0, 0, 0, 3, 2, 4, 2, 4, 4, 4, 2, 0, 6, 2, 4, 4, 2, 4, 0,\n",
       "       2, 6, 5, 2, 2, 2, 5, 4, 3, 2, 6, 2, 6, 4, 3, 6, 4, 2, 6, 0, 1, 4,\n",
       "       3, 6, 3, 6, 4, 6, 4, 6, 6, 4, 4, 6, 6, 3, 2, 2, 5, 2, 0, 1, 2, 6,\n",
       "       6, 4, 6, 2, 0, 4, 2, 4, 3, 0, 2, 5, 4, 6, 4, 6, 4, 1, 0, 4, 4, 6,\n",
       "       0, 6, 1, 2, 6, 0, 2, 0, 2, 5, 2, 1, 6, 5, 1, 6, 1, 0, 6, 2, 4, 6,\n",
       "       1, 6, 1, 1, 0, 4, 4, 0, 5, 3, 2, 1, 6, 2, 2, 4, 4, 0, 6, 6, 1, 0,\n",
       "       6, 0, 6, 0, 4, 5, 4, 6, 0, 3, 4, 5, 5, 6, 2, 0, 4, 4, 6, 4, 2, 4,\n",
       "       5, 4, 6, 5, 0, 5, 6, 4, 5, 3, 0, 0, 4, 2, 2, 2, 2, 6, 2, 0, 1, 3,\n",
       "       4, 4, 2, 6, 5, 4, 4, 6, 4, 1, 6, 4, 4, 5, 4, 1, 2, 6, 6, 5, 3, 3,\n",
       "       0, 0, 6, 4, 3, 0, 0, 3, 4, 3, 0, 6, 0, 2, 6, 6, 6, 4, 4, 4, 0, 0,\n",
       "       3, 4, 0, 0, 2, 1, 4, 6, 4, 6, 0, 3, 1, 4, 3, 6, 6, 6, 1, 3, 5, 6,\n",
       "       6, 5, 3, 6, 2, 4, 2, 4, 0, 0, 6, 6, 2, 4, 6, 5, 6, 3, 2, 1, 2, 6,\n",
       "       2, 4, 0, 2, 0, 2, 2, 5, 6, 2, 3, 4, 6, 2, 4, 0, 4, 0, 6, 2, 6, 3,\n",
       "       1, 0, 5, 4, 1, 2, 2, 4, 0, 6, 4, 4, 4, 0, 0, 4, 6, 0, 5, 6, 3, 2,\n",
       "       0, 2, 2, 6, 6, 5, 2, 4, 6, 2, 2, 6, 1, 0, 6, 0, 2, 6, 1, 4, 3, 4,\n",
       "       2, 0, 6, 6, 6, 3, 4, 5, 0, 1, 2, 6, 5, 6, 6, 1, 2, 4, 4, 6, 0, 0,\n",
       "       2, 2, 6, 6, 2, 0, 4, 1, 2, 6, 6, 5, 5, 5, 4, 6, 0, 6, 1, 5, 1, 0,\n",
       "       4, 0, 6, 6, 4, 6, 4, 2, 5, 4, 2, 0, 6, 3, 6, 2, 2, 0, 6, 3, 4, 6,\n",
       "       6, 5, 2, 6, 6, 4, 6, 6, 4, 6, 1, 6, 1, 5, 5, 6, 0, 2, 6, 0, 3, 3,\n",
       "       6, 4, 6, 0, 0, 1, 3, 6, 2, 5, 6, 6, 0, 6, 0, 4, 5, 2, 2, 6, 4, 4,\n",
       "       5, 5, 2, 4, 2, 3, 1, 6, 4, 6, 4, 6, 4, 1, 1, 5, 6, 6, 5, 2, 4, 2,\n",
       "       1, 0, 6, 4, 1, 6, 2, 4, 2, 2, 3, 0, 1, 2, 3, 2, 3, 6, 6, 6, 6, 0,\n",
       "       4, 3, 6, 6, 6, 2, 4, 6, 6, 6, 6, 4, 6, 6, 3, 6, 4, 2, 6, 4, 4, 0,\n",
       "       5, 2, 6, 4, 5, 3, 6, 6, 2, 6, 5, 2, 5, 3, 6, 5, 2, 2, 6, 4, 4, 2,\n",
       "       3, 3, 2, 6, 6, 4, 2, 4, 4, 6, 6, 6, 4, 6, 4, 6, 4, 6, 4, 0, 2, 5,\n",
       "       1, 4, 0, 4, 1, 5, 6, 6, 6, 6, 6, 0, 4, 2, 6, 4, 5, 4, 4, 6, 2, 3,\n",
       "       6, 3, 6, 6, 2, 0, 6, 4, 6, 4, 6, 4, 5, 5, 0, 6, 5, 4, 3, 4, 0, 0,\n",
       "       6, 2, 0, 0, 6, 2, 4, 6, 3, 2, 3, 5, 3, 4, 4, 1, 0, 4, 4, 0, 6, 4,\n",
       "       6, 6, 0, 6, 0, 1, 0, 4, 3, 1, 6, 2, 6, 0, 2, 6, 5, 5, 2, 5, 2, 5,\n",
       "       4, 4, 6, 6, 6, 2, 2, 1, 4, 5, 3, 5, 4, 6, 6, 0, 4, 3, 0, 6, 6, 4,\n",
       "       0, 2, 0, 6, 4, 3, 4, 3, 0, 2, 6, 4, 2, 6, 2, 0, 2, 4, 3, 2, 1, 6,\n",
       "       6, 4, 6, 4, 6, 4, 6, 2, 4, 6, 4, 5, 2, 6, 5, 4, 5, 4, 0, 4, 4, 6,\n",
       "       6, 2, 0, 2, 4, 1, 2, 2, 3, 6, 3, 4, 2, 6, 2, 5, 0, 5, 6, 0, 3, 0,\n",
       "       4, 2, 2, 4, 0, 4, 0, 5, 0, 0, 2, 6, 3, 0], dtype=int64)"
      ]
     },
     "execution_count": 5,
     "metadata": {},
     "output_type": "execute_result"
    }
   ],
   "source": [
    "y_train[:1000]"
   ]
  },
  {
   "cell_type": "code",
   "execution_count": 6,
   "id": "631b7e5d-d5dc-4a7e-8aa6-e039237e9c98",
   "metadata": {},
   "outputs": [],
   "source": [
    "classes = ['anger','contempt','disgust','fear','happy','sadness','surprise']"
   ]
  },
  {
   "cell_type": "code",
   "execution_count": 7,
   "id": "064ee29b-0b5d-4ee6-ab33-2fd48b1427e3",
   "metadata": {},
   "outputs": [],
   "source": [
    "def plot_sample(X,y,index):\n",
    "    plt.figure(figsize=(15,2))\n",
    "    plt.imshow(X[index])\n",
    "    plt.xlabel(classes[y[index]])"
   ]
  },
  {
   "cell_type": "code",
   "execution_count": 13,
   "id": "3e6ccc1b-7a09-47d1-b844-b7c43ed7978f",
   "metadata": {},
   "outputs": [
    {
     "data": {
      "image/png": "[encoded data removed]",
      "text/plain": [
       "<Figure size 1500x200 with 1 Axes>"
      ]
     },
     "metadata": {},
     "output_type": "display_data"
    }
   ],
   "source": [
    "plot_sample(X_train, y_train,10)"
   ]
  },
  {
   "cell_type": "code",
   "execution_count": 9,
   "id": "9c319e20-271e-4973-9224-368fa9596101",
   "metadata": {},
   "outputs": [],
   "source": [
    "# X_train = X_train / 255.0\n",
    "# X_val = X_val / 255.0"
   ]
  },
  {
   "cell_type": "code",
   "execution_count": 10,
   "id": "079f12fc-4e31-4484-9677-a7e9c4657d9d",
   "metadata": {},
   "outputs": [
    {
     "name": "stdout",
     "output_type": "stream",
     "text": [
      "Epoch 1/40\n",
      "25/25 [==============================] - 3s 109ms/step - loss: 2.0522 - accuracy: 0.3278\n",
      "Epoch 2/40\n",
      "25/25 [==============================] - 3s 108ms/step - loss: 1.5613 - accuracy: 0.4286\n",
      "Epoch 3/40\n",
      "25/25 [==============================] - 3s 123ms/step - loss: 1.2714 - accuracy: 0.5332\n",
      "Epoch 4/40\n",
      "25/25 [==============================] - 3s 119ms/step - loss: 1.1750 - accuracy: 0.5689\n",
      "Epoch 5/40\n",
      "25/25 [==============================] - 3s 129ms/step - loss: 0.9856 - accuracy: 0.6492\n",
      "Epoch 6/40\n",
      "25/25 [==============================] - 3s 123ms/step - loss: 0.9844 - accuracy: 0.6531\n",
      "Epoch 7/40\n",
      "25/25 [==============================] - 3s 121ms/step - loss: 0.9678 - accuracy: 0.6696\n",
      "Epoch 8/40\n",
      "25/25 [==============================] - 3s 120ms/step - loss: 0.7396 - accuracy: 0.7628\n",
      "Epoch 9/40\n",
      "25/25 [==============================] - 3s 118ms/step - loss: 0.7360 - accuracy: 0.7551\n",
      "Epoch 10/40\n",
      "25/25 [==============================] - 3s 116ms/step - loss: 0.7076 - accuracy: 0.7653\n",
      "Epoch 11/40\n",
      "25/25 [==============================] - 3s 119ms/step - loss: 0.6535 - accuracy: 0.7908\n",
      "Epoch 12/40\n",
      "25/25 [==============================] - 3s 122ms/step - loss: 0.5723 - accuracy: 0.8253\n",
      "Epoch 13/40\n",
      "25/25 [==============================] - 3s 125ms/step - loss: 0.5528 - accuracy: 0.8112\n",
      "Epoch 14/40\n",
      "25/25 [==============================] - 3s 118ms/step - loss: 0.5052 - accuracy: 0.8444\n",
      "Epoch 15/40\n",
      "25/25 [==============================] - 3s 127ms/step - loss: 0.5978 - accuracy: 0.8074\n",
      "Epoch 16/40\n",
      "25/25 [==============================] - 3s 119ms/step - loss: 0.4310 - accuracy: 0.8890\n",
      "Epoch 17/40\n",
      "25/25 [==============================] - 3s 118ms/step - loss: 0.4608 - accuracy: 0.8776\n",
      "Epoch 18/40\n",
      "25/25 [==============================] - 3s 116ms/step - loss: 0.6629 - accuracy: 0.8074\n",
      "Epoch 19/40\n",
      "25/25 [==============================] - 3s 118ms/step - loss: 0.3454 - accuracy: 0.9158\n",
      "Epoch 20/40\n",
      "25/25 [==============================] - 3s 118ms/step - loss: 0.3650 - accuracy: 0.8903\n",
      "Epoch 21/40\n",
      "25/25 [==============================] - 3s 121ms/step - loss: 0.2905 - accuracy: 0.9260\n",
      "Epoch 22/40\n",
      "25/25 [==============================] - 3s 120ms/step - loss: 0.2769 - accuracy: 0.9286\n",
      "Epoch 23/40\n",
      "25/25 [==============================] - 3s 118ms/step - loss: 0.2599 - accuracy: 0.9490\n",
      "Epoch 24/40\n",
      "25/25 [==============================] - 3s 118ms/step - loss: 0.4182 - accuracy: 0.8827\n",
      "Epoch 25/40\n",
      "25/25 [==============================] - 3s 117ms/step - loss: 0.2893 - accuracy: 0.9171\n",
      "Epoch 26/40\n",
      "25/25 [==============================] - 3s 117ms/step - loss: 0.2324 - accuracy: 0.9503\n",
      "Epoch 27/40\n",
      "25/25 [==============================] - 3s 117ms/step - loss: 0.3064 - accuracy: 0.9069\n",
      "Epoch 28/40\n",
      "25/25 [==============================] - 3s 119ms/step - loss: 0.1957 - accuracy: 0.9630\n",
      "Epoch 29/40\n",
      "25/25 [==============================] - 3s 119ms/step - loss: 0.2354 - accuracy: 0.9388\n",
      "Epoch 30/40\n",
      "25/25 [==============================] - 3s 118ms/step - loss: 0.1819 - accuracy: 0.9630\n",
      "Epoch 31/40\n",
      "25/25 [==============================] - 3s 119ms/step - loss: 0.1662 - accuracy: 0.9783\n",
      "Epoch 32/40\n",
      "25/25 [==============================] - 3s 117ms/step - loss: 0.1952 - accuracy: 0.9579\n",
      "Epoch 33/40\n",
      "25/25 [==============================] - 3s 119ms/step - loss: 0.3510 - accuracy: 0.9247\n",
      "Epoch 34/40\n",
      "25/25 [==============================] - 3s 117ms/step - loss: 0.1510 - accuracy: 0.9745\n",
      "Epoch 35/40\n",
      "25/25 [==============================] - 3s 119ms/step - loss: 0.1448 - accuracy: 0.9732\n",
      "Epoch 36/40\n",
      "25/25 [==============================] - 3s 117ms/step - loss: 0.1394 - accuracy: 0.9783\n",
      "Epoch 37/40\n",
      "25/25 [==============================] - 3s 118ms/step - loss: 0.1447 - accuracy: 0.9758\n",
      "Epoch 38/40\n",
      "25/25 [==============================] - 3s 121ms/step - loss: 0.1136 - accuracy: 0.9860\n",
      "Epoch 39/40\n",
      "25/25 [==============================] - 3s 118ms/step - loss: 0.1131 - accuracy: 0.9834\n",
      "Epoch 40/40\n",
      "25/25 [==============================] - 3s 119ms/step - loss: 0.1119 - accuracy: 0.9809\n"
     ]
    },
    {
     "data": {
      "text/plain": [
       "<tensorflow.python.keras.callbacks.History at 0x2128ed6c310>"
      ]
     },
     "execution_count": 10,
     "metadata": {},
     "output_type": "execute_result"
    }
   ],
   "source": [
    "ann = models.Sequential([\n",
    "            layers.Flatten(input_shape=(48,48,3)),\n",
    "            layers.Dense(3000, activation='relu'),\n",
    "            layers.Dense(1000, activation='relu'),\n",
    "            layers.Dense(7, activation='softmax'),\n",
    "        ])\n",
    "\n",
    "\n",
    "ann.compile(optimizer='SGD',\n",
    "                 loss='sparse_categorical_crossentropy',\n",
    "                 metrics=['accuracy'])\n",
    "    \n",
    "ann.fit(X_train, y_train, epochs=40)"
   ]
  },
  {
   "cell_type": "code",
   "execution_count": 11,
   "id": "c92a50e5-611a-41f3-aa74-98383884fe0b",
   "metadata": {},
   "outputs": [
    {
     "name": "stdout",
     "output_type": "stream",
     "text": [
      "7/7 [==============================] - 0s 32ms/step - loss: 0.2227 - accuracy: 0.9289\n"
     ]
    },
    {
     "data": {
      "text/plain": [
       "[0.22267906367778778, 0.9289340376853943]"
      ]
     },
     "execution_count": 11,
     "metadata": {},
     "output_type": "execute_result"
    }
   ],
   "source": [
    "ann.evaluate(X_val,y_val)"
   ]
  },
  {
   "cell_type": "code",
   "execution_count": 20,
   "id": "6d23bc6f-dea6-4abe-a6b7-be4f6ca254c1",
   "metadata": {},
   "outputs": [
    {
     "name": "stdout",
     "output_type": "stream",
     "text": [
      "classification_report:  \n",
      "               precision    recall  f1-score   support\n",
      "\n",
      "           0       1.00      0.70      0.82        23\n",
      "           1       1.00      1.00      1.00         9\n",
      "           2       0.93      1.00      0.97        43\n",
      "           3       1.00      0.93      0.97        15\n",
      "           4       1.00      0.95      0.98        43\n",
      "           5       0.65      0.89      0.76        19\n",
      "           6       0.96      0.96      0.96        45\n",
      "\n",
      "    accuracy                           0.93       197\n",
      "   macro avg       0.93      0.92      0.92       197\n",
      "weighted avg       0.94      0.93      0.93       197\n",
      "\n"
     ]
    }
   ],
   "source": [
    "from sklearn.metrics import confusion_matrix, classification_report\n",
    "y_pred = ann.predict(X_val)\n",
    "classs = [np.argmax(element) for element in y_pred] \n",
    "print('classification_report:  \\n', classification_report(y_val,classs))"
   ]
  }
 ],
 "metadata": {
  "kernelspec": {
   "display_name": "Python 3 (ipykernel)",
   "language": "python",
   "name": "python3"
  },
  "language_info": {
   "codemirror_mode": {
    "name": "ipython",
    "version": 3
   },
   "file_extension": ".py",
   "mimetype": "text/x-python",
   "name": "python",
   "nbconvert_exporter": "python",
   "pygments_lexer": "ipython3",
   "version": "3.9.10"
  }
 },
 "nbformat": 4,
 "nbformat_minor": 5
}
